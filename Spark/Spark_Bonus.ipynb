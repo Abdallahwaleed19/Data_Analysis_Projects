{
 "cells": [
  {
   "cell_type": "code",
   "execution_count": null,
   "id": "637b2f8d",
   "metadata": {},
   "outputs": [],
   "source": [
    "from pyspark.sql import SparkSession"
   ]
  },
  {
   "cell_type": "markdown",
   "id": "5518c194",
   "metadata": {},
   "source": [
    "# CSV File \n"
   ]
  },
  {
   "cell_type": "code",
   "execution_count": null,
   "id": "04c56cf3",
   "metadata": {},
   "outputs": [
    {
     "name": "stderr",
     "output_type": "stream",
     "text": [
      "<>:1: SyntaxWarning: invalid escape sequence '\\M'\n",
      "<>:1: SyntaxWarning: invalid escape sequence '\\M'\n",
      "C:\\Users\\Eng. Abdalla\\AppData\\Local\\Temp\\ipykernel_19560\\2547527382.py:1: SyntaxWarning: invalid escape sequence '\\M'\n",
      "  file_path = \"D:\\Menoufia National University 2024-2025\\Faculty of Computers & Artifcial intellegance\\Level 2\\Semester 2\\Introduction to Big Data - Dr. أميره عبدالعاطي\\Bonus\\sample_data.csv\"\n"
     ]
    },
    {
     "name": "stdout",
     "output_type": "stream",
     "text": [
      "+---+--------+-----+\n",
      "| id|category|value|\n",
      "+---+--------+-----+\n",
      "|  1|       A|   23|\n",
      "|  2|       B|   45|\n",
      "|  3|       A|   34|\n",
      "|  4|       B|   30|\n",
      "|  5|       C|   67|\n",
      "|  6|       A|   21|\n",
      "|  7|       C|   45|\n",
      "|  8|       B|   39|\n",
      "|  9|       A|   56|\n",
      "+---+--------+-----+\n",
      "\n"
     ]
    }
   ],
   "source": [
    "file_path = \"D:\\Menoufia National University 2024-2025\\Faculty of Computers & Artifcial intellegance\\Level 2\\Semester 2\\Introduction to Big Data - Dr. أميره عبدالعاطي\\Bonus\\sample_data.csv\"\n",
    "df = spark.read.csv(file_path, header=True, inferSchema=True) # type: ignore\n",
    "df.show()"
   ]
  },
  {
   "cell_type": "markdown",
   "id": "2263850b",
   "metadata": {},
   "source": [
    "# Filter Data "
   ]
  },
  {
   "cell_type": "code",
   "execution_count": 19,
   "id": "25d91553",
   "metadata": {},
   "outputs": [
    {
     "name": "stdout",
     "output_type": "stream",
     "text": [
      "+---+--------+-----+\n",
      "| id|category|value|\n",
      "+---+--------+-----+\n",
      "|  6|       A|   21|\n",
      "|  7|       C|   45|\n",
      "|  8|       B|   39|\n",
      "|  9|       A|   56|\n",
      "+---+--------+-----+\n",
      "\n"
     ]
    }
   ],
   "source": [
    "df_filtered = df.filter(df.id > 5)\n",
    "df_filtered.show()"
   ]
  },
  {
   "cell_type": "markdown",
   "id": "d373ef62",
   "metadata": {},
   "source": [
    "# Grouped data "
   ]
  },
  {
   "cell_type": "code",
   "execution_count": 20,
   "id": "9e7b3582",
   "metadata": {},
   "outputs": [
    {
     "name": "stdout",
     "output_type": "stream",
     "text": [
      "+--------+-----+\n",
      "|category|count|\n",
      "+--------+-----+\n",
      "|       B|    3|\n",
      "|       C|    2|\n",
      "|       A|    4|\n",
      "+--------+-----+\n",
      "\n"
     ]
    }
   ],
   "source": [
    "df_grouped = df.groupBy(\"category\").count()\n",
    "df_grouped.show()\n"
   ]
  },
  {
   "cell_type": "markdown",
   "id": "e59a4285",
   "metadata": {},
   "source": [
    "# Calculate the Average"
   ]
  },
  {
   "cell_type": "code",
   "execution_count": 21,
   "id": "73e6c6e8",
   "metadata": {},
   "outputs": [
    {
     "name": "stdout",
     "output_type": "stream",
     "text": [
      "+----------+\n",
      "|avg(value)|\n",
      "+----------+\n",
      "|      40.0|\n",
      "+----------+\n",
      "\n"
     ]
    }
   ],
   "source": [
    "from pyspark.sql.functions import avg\n",
    "df_avg = df.select(avg(\"value\"))\n",
    "df_avg.show()"
   ]
  }
 ],
 "metadata": {
  "kernelspec": {
   "display_name": "Python 3",
   "language": "python",
   "name": "python3"
  },
  "language_info": {
   "codemirror_mode": {
    "name": "ipython",
    "version": 3
   },
   "file_extension": ".py",
   "mimetype": "text/x-python",
   "name": "python",
   "nbconvert_exporter": "python",
   "pygments_lexer": "ipython3",
   "version": "3.13.3"
  }
 },
 "nbformat": 4,
 "nbformat_minor": 5
}
