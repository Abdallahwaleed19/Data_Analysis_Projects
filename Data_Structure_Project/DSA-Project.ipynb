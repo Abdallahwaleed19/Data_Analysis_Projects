{
 "cells": [
  {
   "cell_type": "markdown",
   "metadata": {},
   "source": [
    "## Title : Contact Book Management System\n"
   ]
  },
  {
   "cell_type": "markdown",
   "metadata": {},
   "source": [
    "## Import Libraries :"
   ]
  },
  {
   "cell_type": "code",
   "execution_count": 1,
   "metadata": {},
   "outputs": [],
   "source": [
    "import tkinter as tk\n",
    "from tkinter import messagebox"
   ]
  },
  {
   "cell_type": "markdown",
   "metadata": {},
   "source": [
    "## Define the Contact Class :"
   ]
  },
  {
   "cell_type": "code",
   "execution_count": 2,
   "metadata": {},
   "outputs": [],
   "source": [
    "class Contact:\n",
    "    def __init__(self, name, phone_number, email):\n",
    "        self.name = name\n",
    "        self.phone_number = phone_number\n",
    "        self.email = email\n",
    "        self.next = None  # Pointer to the next contact"
   ]
  },
  {
   "cell_type": "markdown",
   "metadata": {},
   "source": [
    "## Define the ContactBook Class :"
   ]
  },
  {
   "cell_type": "code",
   "execution_count": 3,
   "metadata": {},
   "outputs": [],
   "source": [
    "class ContactBook:\n",
    "    def __init__(self):\n",
    "        self.head = None  # Head of the linked list\n",
    "\n",
    "    def add_contact(self, name, phone_number, email):\n",
    "        new_contact = Contact(name, phone_number, email)\n",
    "        if not self.head:\n",
    "            self.head = new_contact\n",
    "        else:\n",
    "            current = self.head\n",
    "            while current.next:\n",
    "                current = current.next\n",
    "            current.next = new_contact\n",
    "        return \"Contact added successfully!\"\n",
    "\n",
    "    def update_contact(self, name, new_phone_number, new_email):\n",
    "        current = self.head\n",
    "        while current:\n",
    "            if current.name.lower() == name.lower():\n",
    "                current.phone_number = new_phone_number\n",
    "                current.email = new_email\n",
    "                return \"Contact updated successfully!\"\n",
    "            current = current.next\n",
    "        return \"Contact not found.\"\n",
    "\n",
    "    def delete_contact(self, name):\n",
    "        if not self.head:\n",
    "            return \"Contact list is empty.\"\n",
    "\n",
    "        if self.head.name.lower() == name.lower():\n",
    "            self.head = self.head.next\n",
    "            return \"Contact deleted successfully!\"\n",
    "\n",
    "        current = self.head\n",
    "        while current.next and current.next.name.lower() != name.lower():\n",
    "            current = current.next\n",
    "\n",
    "        if not current.next:\n",
    "            return \"Contact not found.\"\n",
    "        else:\n",
    "            current.next = current.next.next\n",
    "            return \"Contact deleted successfully!\"\n",
    "\n",
    "    def search_contact(self, keyword):\n",
    "        current = self.head\n",
    "        found_contacts = []\n",
    "        while current:\n",
    "            if current.name.lower() == keyword.lower() or current.phone_number == keyword:\n",
    "                found_contacts.append(f\"{current.name} | {current.phone_number} | {current.email}\")\n",
    "            current = current.next\n",
    "        return found_contacts if found_contacts else [\"Contact not found.\"]\n",
    "\n",
    "    def sort_contacts_by_name(self):\n",
    "        if not self.head or not self.head.next:\n",
    "            return \"No sorting needed.\"\n",
    "\n",
    "        swapped = True\n",
    "        while swapped:\n",
    "            swapped = False\n",
    "            current = self.head\n",
    "            while current.next:\n",
    "                if current.name.lower() > current.next.name.lower():\n",
    "                    current.name, current.next.name = current.next.name, current.name\n",
    "                    current.phone_number, current.next.phone_number = current.next.phone_number, current.phone_number\n",
    "                    current.email, current.next.email = current.next.email, current.email\n",
    "                    swapped = True\n",
    "        return \"Contacts sorted by name successfully!\"\n",
    "\n",
    "    def display_contacts(self):\n",
    "        if not self.head:\n",
    "            return \"No contacts to display.\"\n",
    "\n",
    "        current = self.head\n",
    "        contact_list = []\n",
    "        while current:\n",
    "            contact_list.append(f\"{current.name} | {current.phone_number} | {current.email}\")\n",
    "            current = current.next\n",
    "        return contact_list"
   ]
  },
  {
   "cell_type": "markdown",
   "metadata": {},
   "source": [
    "## Define the ContactBookApp Class :"
   ]
  },
  {
   "cell_type": "code",
   "execution_count": 4,
   "metadata": {},
   "outputs": [],
   "source": [
    "class ContactBookApp:\n",
    "    def __init__(self, root):\n",
    "        self.root = root\n",
    "        self.root.title(\"Contact Book Management System\")\n",
    "        self.contact_book = ContactBook()\n",
    "\n",
    "        # Create buttons for each operation\n",
    "        tk.Button(root, text=\"Add Contact\", command=self.add_contact).pack(pady=5)\n",
    "        tk.Button(root, text=\"Update Contact\", command=self.update_contact).pack(pady=5)\n",
    "        tk.Button(root, text=\"Delete Contact\", command=self.delete_contact).pack(pady=5)\n",
    "        tk.Button(root, text=\"Search Contact\", command=self.search_contact).pack(pady=5)\n",
    "        tk.Button(root, text=\"Sort Contacts by Name\", command=self.sort_contacts).pack(pady=5)\n",
    "        tk.Button(root, text=\"Display All Contacts\", command=self.display_contacts).pack(pady=5)\n",
    "        tk.Button(root, text=\"Exit\", command=root.quit).pack(pady=5)\n",
    "\n",
    "    def add_contact(self):\n",
    "        self.input_window(\"Add Contact\", self.add_contact_callback)\n",
    "\n",
    "    def update_contact(self):\n",
    "        self.input_window(\"Update Contact\", self.update_contact_callback)\n",
    "\n",
    "    def delete_contact(self):\n",
    "        self.input_window(\"Delete Contact\", self.delete_contact_callback)\n",
    "\n",
    "    def search_contact(self):\n",
    "        self.input_window(\"Search Contact\", self.search_contact_callback)\n",
    "\n",
    "    def sort_contacts(self):\n",
    "        message = self.contact_book.sort_contacts_by_name()\n",
    "        messagebox.showinfo(\"Info\", message)\n",
    "\n",
    "    def display_contacts(self):\n",
    "        contacts = self.contact_book.display_contacts()\n",
    "        messagebox.showinfo(\"Contact List\", \"\\n\".join(contacts))\n",
    "\n",
    "    def input_window (self, title, callback):\n",
    "        input_window = tk.Toplevel(self.root)\n",
    "        input_window.title(title)\n",
    "\n",
    "        tk.Label(input_window, text=\"Name:\").pack(pady=5)\n",
    "        name_entry = tk.Entry(input_window)\n",
    "        name_entry.pack(pady=5)\n",
    "\n",
    "        tk.Label(input_window, text=\"Phone Number:\").pack(pady=5)\n",
    "        phone_entry = tk.Entry(input_window)\n",
    "        phone_entry.pack(pady=5)\n",
    "\n",
    "        tk.Label(input_window, text=\"Email:\").pack(pady=5)\n",
    "        email_entry = tk.Entry(input_window)\n",
    "        email_entry.pack(pady=5)\n",
    "\n",
    "        tk.Button(input_window, text=\"Submit\", command=lambda: callback(name_entry.get(), phone_entry.get(), email_entry.get(), input_window)).pack(pady=5)\n",
    "\n",
    "    def add_contact_callback(self, name, phone_number, email, window):\n",
    "        message = self.contact_book.add_contact(name, phone_number, email)\n",
    "        messagebox.showinfo(\"Info\", message)\n",
    "        window.destroy()\n",
    "\n",
    "    def update_contact_callback(self, name, phone_number, email, window):\n",
    "        message = self.contact_book.update_contact(name, phone_number, email)\n",
    "        messagebox.showinfo(\"Info\", message)\n",
    "        window.destroy()\n",
    "\n",
    "    def delete_contact_callback(self, name, phone_number, email, window):\n",
    "        message = self.contact_book.delete_contact(name)\n",
    "        messagebox.showinfo(\"Info\", message)\n",
    "        window.destroy()\n",
    "\n",
    "    def search_contact_callback(self, name, phone_number, email, window):\n",
    "        keyword = name or phone_number  # Use name or phone number for search\n",
    "        results = self.contact_book.search_contact(keyword)\n",
    "        messagebox.showinfo(\"Search Results\", \"\\n\".join(results))\n",
    "        window.destroy()"
   ]
  },
  {
   "cell_type": "markdown",
   "metadata": {},
   "source": [
    "##  Run the Application : \n"
   ]
  },
  {
   "cell_type": "code",
   "execution_count": 5,
   "metadata": {},
   "outputs": [],
   "source": [
    "root = tk.Tk()\n",
    "app = ContactBookApp(root)\n",
    "root.mainloop()"
   ]
  }
 ],
 "metadata": {
  "kernelspec": {
   "display_name": "Python 3",
   "language": "python",
   "name": "python3"
  },
  "language_info": {
   "codemirror_mode": {
    "name": "ipython",
    "version": 3
   },
   "file_extension": ".py",
   "mimetype": "text/x-python",
   "name": "python",
   "nbconvert_exporter": "python",
   "pygments_lexer": "ipython3",
   "version": "3.13.2"
  }
 },
 "nbformat": 4,
 "nbformat_minor": 2
}
